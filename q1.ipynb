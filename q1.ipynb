{
 "cells": [
  {
   "cell_type": "markdown",
   "metadata": {},
   "source": [
    "## HW2-1 (Problem 1) \n",
    "Bryan Zhao, 24-787:B"
   ]
  },
  {
   "cell_type": "markdown",
   "metadata": {},
   "source": [
    "**a) Theoretical Problem:** Intuitively, where does a data point lie relative to where the margin is when $\\xi_{i} = 0$? Is this data point classified correctly?"
   ]
  },
  {
   "cell_type": "markdown",
   "metadata": {},
   "source": [
    "When $\\xi_{i} = 0$, the data point lies on the margin or outside the margin on the correct side – since constraint is $(w^Tx^{(i)} + b) >= 1 - \\xi_{i}$, which means that it is classified correctly."
   ]
  },
  {
   "cell_type": "markdown",
   "metadata": {},
   "source": [
    "**b) Theoretical Problem:** Intuitively, where does a data point lie relative to where the margin is when $0 < \\xi_{i} <= 1$? Is this data point classified correctly?"
   ]
  },
  {
   "cell_type": "markdown",
   "metadata": {},
   "source": [
    "When 0 < $\\xi_{i} <= 1$, the data point lies inside the margin (between the correct margin and the hyperplane), but is still classified correctly."
   ]
  },
  {
   "cell_type": "markdown",
   "metadata": {},
   "source": [
    "**c) Theoretical Problem:** Intuitively, where does a data point lie relative to where the margin is when $\\xi_{i} > 1$? Is this data point classified correctly?"
   ]
  },
  {
   "cell_type": "markdown",
   "metadata": {},
   "source": [
    "When $\\xi_{i} > 1$, the data point lies outside of the correct margin and is therefore classified incorrectly."
   ]
  }
 ],
 "metadata": {
  "kernelspec": {
   "display_name": "Python 3",
   "language": "python",
   "name": "python3"
  },
  "language_info": {
   "codemirror_mode": {
    "name": "ipython",
    "version": 3
   },
   "file_extension": ".py",
   "mimetype": "text/x-python",
   "name": "python",
   "nbconvert_exporter": "python",
   "pygments_lexer": "ipython3",
   "version": "3.6.5"
  }
 },
 "nbformat": 4,
 "nbformat_minor": 2
}
