{
 "cells": [
  {
   "cell_type": "markdown",
   "metadata": {},
   "source": [
    "## HW-3 Naive Bayes Classification\n",
    "Bryan Zhao, 24-787:B"
   ]
  },
  {
   "cell_type": "markdown",
   "metadata": {},
   "source": [
    "Import all the package you need to use:"
   ]
  },
  {
   "cell_type": "code",
   "execution_count": 190,
   "metadata": {},
   "outputs": [],
   "source": [
    "import glob # for finding file names\n",
    "import numpy as np\n",
    "import scipy.io as sio # to save dictionaries, don't have to compute every time\n",
    "import re # regular expressions for splitting\n",
    "import math # for log\n",
    "import matplotlib.pyplot as plt # visualization"
   ]
  },
  {
   "cell_type": "markdown",
   "metadata": {},
   "source": [
    "Define a function to get the file list for each type of data from dataset:"
   ]
  },
  {
   "cell_type": "code",
   "execution_count": 4,
   "metadata": {},
   "outputs": [],
   "source": [
    "def get_filelist():\n",
    "    neg_files_train = glob.glob('./hw2_dataset_nb/train/neg/*.txt')\n",
    "    pos_files_train = glob.glob('./hw2_dataset_nb/train/pos/*.txt')\n",
    "    neg_files_test = glob.glob('./hw2_dataset_nb/test/neg/*.txt')\n",
    "    pos_files_test = glob.glob('./hw2_dataset_nb/test/pos/*.txt')\n",
    "    return neg_files_train, pos_files_train, neg_files_test, pos_files_test"
   ]
  },
  {
   "cell_type": "markdown",
   "metadata": {},
   "source": [
    "Define a function to read all the files for each category of training data:"
   ]
  },
  {
   "cell_type": "code",
   "execution_count": 6,
   "metadata": {},
   "outputs": [],
   "source": [
    "def build_vocabulary(filelist):\n",
    "    dictionary = {} # initialization\n",
    "    for file in filelist: # loop through all files of the provided list\n",
    "        fh = open(file)\n",
    "        for file_line in fh:\n",
    "            words = re.split('[, \\-!?:]', file_line) # parse through all words, split by whitespaces and punctuation\n",
    "            for word in words:\n",
    "                if word.lower() in dictionary:\n",
    "                    dictionary[word.lower()] += 1 # increment number of times the existing word is seen\n",
    "                else:\n",
    "                    dictionary[word.lower()] = 1\n",
    "        fh.close() # close file\n",
    "    return dictionary"
   ]
  },
  {
   "cell_type": "markdown",
   "metadata": {},
   "source": [
    "Build the dictionaries for positive and negative datasets (if dictionaries have not yet been built)"
   ]
  },
  {
   "cell_type": "code",
   "execution_count": 213,
   "metadata": {
    "scrolled": true
   },
   "outputs": [],
   "source": [
    "neg_files_train, pos_files_train, neg_files_test, pos_files_test = get_filelist() # obtain list of filenames\n",
    "dict_neg_train = build_vocabulary(neg_files_train) # build vocabularies for each dataset\n",
    "dict_pos_train = build_vocabulary(pos_files_train)"
   ]
  },
  {
   "cell_type": "code",
   "execution_count": 15,
   "metadata": {},
   "outputs": [
    {
     "name": "stdout",
     "output_type": "stream",
     "text": [
      "In positive trained dictionary, there are 3381232 words.\n",
      "In negative trained dictionary, there are 3311718 words.\n"
     ]
    }
   ],
   "source": [
    "total_pos_words = sum(dict_pos_train.values())\n",
    "total_neg_words = sum(dict_neg_train.values())\n",
    "print('In positive trained dictionary, there are {} words.'.format(total_pos_words))\n",
    "print('In negative trained dictionary, there are {} words.'.format(total_neg_words))"
   ]
  },
  {
   "cell_type": "markdown",
   "metadata": {},
   "source": [
    "Define a function to calculate the Bayes product:"
   ]
  },
  {
   "cell_type": "code",
   "execution_count": null,
   "metadata": {},
   "outputs": [],
   "source": [
    "# Function to find unique total number of words between 2 dictionaries\n",
    "def unique_two_dicts(x, y):\n",
    "    z = x.copy()   # start with x's keys and values\n",
    "    z.update(y)    # modifies z with y's keys and values & returns None\n",
    "    unique_num = np.sum(list(z.values())) # number of unique words in merged dictionary\n",
    "    return unique_num"
   ]
  },
  {
   "cell_type": "code",
   "execution_count": 148,
   "metadata": {},
   "outputs": [],
   "source": [
    "def calculate_bayes(file, total_pos, total_neg, alpha):\n",
    "    unique_numwords = unique_two_dicts(dict_pos_train, dict_neg_train) # union of both dicts\n",
    "    # calculate bayes product for negative class\n",
    "    file_words_neg = {} # init dictionary\n",
    "    fh_neg = open(file)\n",
    "    freq_in_file_neg = [] # initialize array of frequencies of each word occurrence in dictionary\n",
    "    for line in fh_neg:\n",
    "        words = re.split('[, \\-!?:]', line) # parse through all words, split by whitespaces and punctuation\n",
    "        for word in words:\n",
    "            if word.lower() in dict_neg_train:\n",
    "                freq_in_file_neg.append(dict_neg_train[word.lower()] + alpha) # increment number of times the existing word is seen\n",
    "            else:\n",
    "                freq_in_file_neg.append(alpha) # implement laplace smoothing\n",
    "                \n",
    "    # compute log-likelihood of P(X|Y)P(Y), with laplace smoothing for frequencies            \n",
    "    bayes_product_neg = np.sum(np.log(freq_in_file_neg/(total_neg + alpha*unique_numwords))) + np.log(0.5)\n",
    "    fh_neg.close()\n",
    "    \n",
    "    # calculate bayes product for positive class\n",
    "    file_words_pos = {} # init dictionary\n",
    "    fh_pos = open(file)\n",
    "    freq_in_file_pos = []\n",
    "    for line in fh_pos:\n",
    "        words = re.split('[, \\-!?:]', line)\n",
    "        for word in words:\n",
    "            if word.lower() in dict_pos_train:\n",
    "                freq_in_file_pos.append(dict_pos_train[word.lower()] + alpha) # increment number of times the existing word is seen\n",
    "            else:\n",
    "                freq_in_file_pos.append(alpha) # implement laplace smoothing\n",
    "                \n",
    "    # compute log-likelihood of P(X|Y)P(Y), with laplace smoothing    \n",
    "    bayes_product_pos = np.sum(np.log(freq_in_file_pos/(total_pos + alpha*unique_numwords))) + np.log(0.5)\n",
    "    fh_pos.close()\n",
    "    return bayes_product_pos, bayes_product_neg"
   ]
  },
  {
   "cell_type": "markdown",
   "metadata": {},
   "source": [
    "Define a function to test the naive bayes classifier:"
   ]
  },
  {
   "cell_type": "code",
   "execution_count": 150,
   "metadata": {},
   "outputs": [],
   "source": [
    "def test_naivebayes(files, total_pos_words, total_neg_words, alpha):\n",
    "    bayes_result = [] # initialize classification array (0's or 1's)\n",
    "    \n",
    "    # loop through all files, and calculate bayes product for positive and negative dictionaries\n",
    "    for file in files:\n",
    "        bayes_product_pos, bayes_product_neg = calculate_bayes(file, total_pos_words, total_neg_words, alpha)\n",
    "        bayes_result.append((bayes_product_pos > bayes_product_neg).astype(int)) # returns 1 for positive, 0 for negative\n",
    "    return bayes_result"
   ]
  },
  {
   "cell_type": "markdown",
   "metadata": {},
   "source": [
    "Initialize the alpha, get the whole data list for different types of data, read and save all the data from dataset, then find the positive accuracy and negative accuracy:"
   ]
  },
  {
   "cell_type": "code",
   "execution_count": 196,
   "metadata": {},
   "outputs": [],
   "source": [
    "alpha = 1 # for laplacian smoothing\n",
    "bayes_result_pos = test_naivebayes(pos_files_test, total_pos_words, total_neg_words, alpha)\n",
    "bayes_result_neg = test_naivebayes(neg_files_test, total_pos_words, total_neg_words, alpha)\n",
    "num_pos_files = len(pos_files_test) # should be 12,500 per class\n",
    "num_neg_files = len(neg_files_test)"
   ]
  },
  {
   "cell_type": "markdown",
   "metadata": {},
   "source": [
    "Print accuracy results and confusion matrix results:"
   ]
  },
  {
   "cell_type": "code",
   "execution_count": 197,
   "metadata": {
    "scrolled": true
   },
   "outputs": [
    {
     "name": "stdout",
     "output_type": "stream",
     "text": [
      "Positive accuracy with Laplacian smoothing and alpha = 1: 0.7968\n",
      "Negative accuracy with Laplacian smoothing and alpha = 1: 0.84792\n",
      "\n",
      "Confusion matrix:\n",
      " [[10599  1901]\n",
      " [ 2540  9960]]\n",
      "--------------\n",
      "TN, FP\n",
      "FN, TP\n"
     ]
    }
   ],
   "source": [
    "# print results\n",
    "alpha = 1\n",
    "print('Positive accuracy with Laplacian smoothing and alpha = {}:'.format(alpha), sum(bayes_result_pos)/num_pos_files)\n",
    "print('Negative accuracy with Laplacian smoothing and alpha = {}:'.format(alpha), 1 - sum(bayes_result_neg)/num_neg_files)\n",
    "\n",
    "num_classified_positive = sum(bayes_result_pos)\n",
    "num_classified_negative = num_neg_files - sum(bayes_result_neg)\n",
    "\n",
    "# populate confusion matrix with true positives, false positives, true negatives, false negatives\n",
    "confusion_matrix = np.array([[num_classified_negative, sum(bayes_result_neg)], \\\n",
    "                             [num_pos_files - num_classified_positive, num_classified_positive]])\n",
    "print('\\nConfusion matrix:\\n', confusion_matrix)\n",
    "print('--------------')\n",
    "print('TN, FP')\n",
    "print('FN, TP')"
   ]
  },
  {
   "cell_type": "code",
   "execution_count": 211,
   "metadata": {},
   "outputs": [],
   "source": [
    "# Part 3-e) Visualize accuracy of test dataset for related values of alpha\n",
    "\n",
    "# Note: this for some reason was faster than a loop implementation for plotting, from trial \n",
    "# error (otherwise, would have utilized a for loop to plot the results)\n",
    "factor = 10\n",
    "alpha1 = 0.0001\n",
    "alpha2 = alpha1*factor\n",
    "alpha3 = alpha2*factor\n",
    "alpha4 = alpha3*factor\n",
    "alpha5 = alpha4*factor\n",
    "alpha6 = alpha5*factor\n",
    "alpha7 = alpha6*factor\n",
    "alpha8 = alpha7*factor\n",
    "\n",
    "# calculate naive bayes result for every alpha\n",
    "bayes_result1_pos = test_naivebayes(pos_files_test, total_pos_words, total_neg_words, alpha1)\n",
    "bayes_result2_pos = test_naivebayes(pos_files_test, total_pos_words, total_neg_words, alpha2)\n",
    "bayes_result3_pos = test_naivebayes(pos_files_test, total_pos_words, total_neg_words, alpha3)\n",
    "bayes_result4_pos = test_naivebayes(pos_files_test, total_pos_words, total_neg_words, alpha4)\n",
    "bayes_result5_pos = test_naivebayes(pos_files_test, total_pos_words, total_neg_words, alpha5)\n",
    "bayes_result6_pos = test_naivebayes(pos_files_test, total_pos_words, total_neg_words, alpha6)\n",
    "bayes_result7_pos = test_naivebayes(pos_files_test, total_pos_words, total_neg_words, alpha7)\n",
    "bayes_result8_pos = test_naivebayes(pos_files_test, total_pos_words, total_neg_words, alpha8)\n",
    "\n",
    "# now, find accuracy of each result\n",
    "acc1 = sum(bayes_result1_pos)/num_pos_files\n",
    "acc2 = sum(bayes_result2_pos)/num_pos_files\n",
    "acc3 = sum(bayes_result3_pos)/num_pos_files\n",
    "acc4 = sum(bayes_result4_pos)/num_pos_files\n",
    "acc5 = sum(bayes_result5_pos)/num_pos_files\n",
    "acc6 = sum(bayes_result6_pos)/num_pos_files\n",
    "acc7 = sum(bayes_result7_pos)/num_pos_files\n",
    "acc8 = sum(bayes_result8_pos)/num_pos_files"
   ]
  },
  {
   "cell_type": "code",
   "execution_count": 209,
   "metadata": {},
   "outputs": [
    {
     "data": {
      "image/png": "[encoded data removed]",
      "text/plain": [
       "<Figure size 432x288 with 1 Axes>"
      ]
     },
     "metadata": {},
     "output_type": "display_data"
    }
   ],
   "source": [
    "# Visualize alpha vs accuracies on a log x-scale and accuracies on y-scale\n",
    "plt.plot(np.log(alpha1), acc1)\n",
    "plt.plot(np.log(alpha2), acc2)\n",
    "plt.plot(np.log(alpha3), acc3)\n",
    "plt.plot(np.log(alpha4), acc4)\n",
    "plt.plot(np.log(alpha5), acc5)\n",
    "plt.plot(np.log(alpha6), acc6)\n",
    "plt.plot(np.log(alpha7), acc7)\n",
    "plt.plot(np.log(alpha8), acc8)"
   ]
  },
  {
   "cell_type": "markdown",
   "metadata": {},
   "source": [
    "Why do you consider the accuracy be affected when α is too high or too low?"
   ]
  },
  {
   "cell_type": "markdown",
   "metadata": {},
   "source": [
    "We start with the probability of $P(word | class)$ as $\\frac{F + \\alpha}{T + \\alpha*U}$ (as mentioned in the Piazza post), where F is the frequency of a word, $\\alpha$ is the laplace (or additive) smoothing factor, T is the total number of words in **either** the positive or negative dictionary, and U is the number of unique words between both dictionaries. \n",
    "\n",
    "When $\\alpha$ is too high, there is too much of a smoothing factor, so in essence, any words with a smaller frequency are filtered out of the Bayes product and have too small of a weight. This leads to most words (especially those with a lower frequency) having a similar individual probability. Subsequently, finer details of the dictionary (words with smaller frequences) are not captured in the classification model. When $\\alpha$ is too small, there is virtually no smoothing factor, so new words do not have much of an affect on the classification model, leading to a less accurate result."
   ]
  },
  {
   "cell_type": "code",
   "execution_count": null,
   "metadata": {},
   "outputs": [],
   "source": [
    "# end of HW2-3"
   ]
  }
 ],
 "metadata": {
  "kernelspec": {
   "display_name": "Python 3",
   "language": "python",
   "name": "python3"
  },
  "language_info": {
   "codemirror_mode": {
    "name": "ipython",
    "version": 3
   },
   "file_extension": ".py",
   "mimetype": "text/x-python",
   "name": "python",
   "nbconvert_exporter": "python",
   "pygments_lexer": "ipython3",
   "version": "3.6.5"
  }
 },
 "nbformat": 4,
 "nbformat_minor": 2
}
