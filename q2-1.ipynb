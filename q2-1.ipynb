{
 "cells": [
  {
   "cell_type": "markdown",
   "metadata": {},
   "source": [
    "## Problem 2: Logistic Regression 1\n",
    "Bryan Zhao, 24-787:B"
   ]
  },
  {
   "cell_type": "markdown",
   "metadata": {},
   "source": [
    "**Goal:** Use both ordinary and regularized logistic regression to create a binary classifier. In this question, $\\omega$ and $\\theta$ are used interchangeably."
   ]
  },
  {
   "cell_type": "code",
   "execution_count": 1,
   "metadata": {},
   "outputs": [],
   "source": [
    "# Import all the packages you need to use:"
   ]
  },
  {
   "cell_type": "code",
   "execution_count": 2,
   "metadata": {},
   "outputs": [],
   "source": [
    "import numpy as np\n",
    "import matplotlib.pyplot as plt\n",
    "from math import log\n",
    "import scipy.optimize as optimize\n",
    "import scipy"
   ]
  },
  {
   "cell_type": "code",
   "execution_count": 3,
   "metadata": {},
   "outputs": [],
   "source": [
    "# Load the data:"
   ]
  },
  {
   "cell_type": "code",
   "execution_count": 83,
   "metadata": {
    "scrolled": true
   },
   "outputs": [
    {
     "name": "stdout",
     "output_type": "stream",
     "text": [
      "Data's dimensions: (100, 3)\n",
      "[[34.62365962 78.02469282  0.        ]\n",
      " [30.28671077 43.89499752  0.        ]\n",
      " [35.84740877 72.90219803  0.        ]\n",
      " [60.18259939 86.3085521   1.        ]\n",
      " [79.03273605 75.34437644  1.        ]\n",
      " [45.08327748 56.31637178  0.        ]\n",
      " [61.10666454 96.51142588  1.        ]\n",
      " [75.02474557 46.55401354  1.        ]\n",
      " [76.0987867  87.42056972  1.        ]\n",
      " [84.43281996 43.53339331  1.        ]] ...\n"
     ]
    }
   ],
   "source": [
    "data = np.genfromtxt('P2data1.txt', delimiter = ',') # imports as a numpy nd-array\n",
    "X = data[:, [0, 1]] # extract first two columns\n",
    "X = np.c_[np.ones((data.shape[0], 1)), X] # append a column of 1's for theta_0\n",
    "y = data[:, 2] # binary class\n",
    "print('Data\\'s dimensions:', data.shape)\n",
    "print(data[0:10, :], '...')"
   ]
  },
  {
   "cell_type": "code",
   "execution_count": 5,
   "metadata": {},
   "outputs": [],
   "source": [
    "# Plot the data:"
   ]
  },
  {
   "cell_type": "code",
   "execution_count": 25,
   "metadata": {},
   "outputs": [
    {
     "data": {
      "image/png": "[encoded data removed]",
      "text/plain": [
       "<Figure size 432x288 with 1 Axes>"
      ]
     },
     "metadata": {},
     "output_type": "display_data"
    }
   ],
   "source": [
    "plt.scatter(X[:, 1][y==0], X[:,2][y==0], c='g', marker='^', label = 'Class 0');\n",
    "plt.scatter(X[:, 1][y==1], X[:,2][y==1], c='r', marker='*', label = 'Class 1');\n",
    "plt.title(\"Scatter plot of data from P2data1.txt\")\n",
    "plt.xlabel(\"x_1\")\n",
    "plt.ylabel(\"x_2\")\n",
    "plt.legend() # automatic placement of legend\n",
    "plt.show() # show the plot"
   ]
  },
  {
   "cell_type": "code",
   "execution_count": 7,
   "metadata": {},
   "outputs": [],
   "source": [
    "# Define the sigmoid function:"
   ]
  },
  {
   "cell_type": "code",
   "execution_count": 8,
   "metadata": {},
   "outputs": [],
   "source": [
    "def sigmoid(x):\n",
    "    # numpy can handle scalar, vector or matrices the same with .array() and .exp()\n",
    "    return 1 / (1 + np.exp(-x)) "
   ]
  },
  {
   "cell_type": "code",
   "execution_count": 9,
   "metadata": {},
   "outputs": [],
   "source": [
    "# Define the compute cost function:"
   ]
  },
  {
   "cell_type": "markdown",
   "metadata": {},
   "source": [
    "![cost_function](cost_fn_equation.png)"
   ]
  },
  {
   "cell_type": "code",
   "execution_count": 10,
   "metadata": {},
   "outputs": [],
   "source": [
    "def compute_cost(theta, X, y):\n",
    "    m = X.shape[0] # number of training samples\n",
    "    sum = 0\n",
    "    for i in range(m):\n",
    "        sum += (-y[i]*log(sigmoid(theta[:].T.dot(X[i, :]))) - (1-y[i])*log(1 - sigmoid(theta[:].T.dot(X[i, :]))))\n",
    "    cost = sum / m\n",
    "    return cost"
   ]
  },
  {
   "cell_type": "code",
   "execution_count": 11,
   "metadata": {},
   "outputs": [],
   "source": [
    "# Define the compute gradient function:"
   ]
  },
  {
   "cell_type": "markdown",
   "metadata": {},
   "source": [
    "![gradient](grad_equation.png)"
   ]
  },
  {
   "cell_type": "code",
   "execution_count": 12,
   "metadata": {},
   "outputs": [],
   "source": [
    "def compute_grad(theta, X, y):\n",
    "    m = X.shape[0] # number of training samples\n",
    "    grad = np.zeros(3)\n",
    "    dim = 3 # or X.shape[1]\n",
    "    for i in range(m):\n",
    "        for j in range(dim):\n",
    "            grad[j] += (sigmoid(theta[:].T.dot(X[i, :])) - y[i])*X[i, j]\n",
    "    return grad/m"
   ]
  },
  {
   "cell_type": "code",
   "execution_count": 13,
   "metadata": {},
   "outputs": [],
   "source": [
    "# Compute cost and gradient (The initial cost should be 0.69314718):"
   ]
  },
  {
   "cell_type": "code",
   "execution_count": 14,
   "metadata": {},
   "outputs": [
    {
     "name": "stdout",
     "output_type": "stream",
     "text": [
      "Cost: 0.6931471805599458\n",
      "Gradient: [ -0.1        -12.00921659 -11.26284221]\n"
     ]
    }
   ],
   "source": [
    "thetas_init = np.zeros(3) \n",
    "res_grad = compute_grad(thetas_init, X, y)\n",
    "res_cost = compute_cost(thetas_init, X, y)\n",
    "print('Cost:', res_cost)\n",
    "print('Gradient:', res_grad) # need to fix results of gradient!"
   ]
  },
  {
   "cell_type": "code",
   "execution_count": 15,
   "metadata": {},
   "outputs": [],
   "source": [
    "# Optimize the cost to find the minimum cost by using fmin_tnc:\n",
    "# The optimal cost should be 0.2034977:"
   ]
  },
  {
   "cell_type": "code",
   "execution_count": 16,
   "metadata": {},
   "outputs": [
    {
     "name": "stdout",
     "output_type": "stream",
     "text": [
      "Optimization result: (array([-25.15955613,   0.20621649,   0.20145867]), 77, 1)\n",
      "Optimized cost: 0.20349770212935675\n"
     ]
    }
   ],
   "source": [
    "res = optimize.fmin_tnc(compute_cost, thetas_init, approx_grad=1, args = (X, y), epsilon=1.0E-6)\n",
    "print('Optimization result:', res) # returns ndarray (solution), nfeval, return code\n",
    "learned_thetas = res[0]\n",
    "print('Optimized cost:', compute_cost(learned_thetas, X, y))"
   ]
  },
  {
   "cell_type": "code",
   "execution_count": 17,
   "metadata": {},
   "outputs": [],
   "source": [
    "# Define a predict function to calculate the result:"
   ]
  },
  {
   "cell_type": "code",
   "execution_count": 18,
   "metadata": {},
   "outputs": [],
   "source": [
    "def predict(theta, X):\n",
    "    prediction = sigmoid(X.dot(theta.T)) > 0.5 # find P(y=1) > 0.5\n",
    "    return prediction.astype(int)"
   ]
  },
  {
   "cell_type": "code",
   "execution_count": 19,
   "metadata": {},
   "outputs": [],
   "source": [
    "# Find the accuracy of the logistic regression:"
   ]
  },
  {
   "cell_type": "code",
   "execution_count": 82,
   "metadata": {},
   "outputs": [
    {
     "name": "stdout",
     "output_type": "stream",
     "text": [
      "Accuracy of logistic regression: 0.89%\n"
     ]
    }
   ],
   "source": [
    "prediction = predict(learned_thetas, X)\n",
    "comparison = (prediction == y) # element-wise comparison\n",
    "num_correct = np.count_nonzero(comparison) # count number of matches\n",
    "print('Accuracy of logistic regression: {}%'.format(num_correct/y.size))"
   ]
  },
  {
   "cell_type": "code",
   "execution_count": 21,
   "metadata": {},
   "outputs": [],
   "source": [
    "# Plot the data and boundary:"
   ]
  },
  {
   "cell_type": "code",
   "execution_count": 78,
   "metadata": {},
   "outputs": [
    {
     "data": {
      "image/png": "[encoded data removed]",
      "text/plain": [
       "<Figure size 432x288 with 1 Axes>"
      ]
     },
     "metadata": {},
     "output_type": "display_data"
    }
   ],
   "source": [
    "plt.scatter(X[:, 1][y==0], X[:,2][y==0], c='g', marker='^', label = 'Class 0');\n",
    "plt.scatter(X[:, 1][y==1], X[:,2][y==1], c='r', marker='*', label = 'Class 1');\n",
    "\n",
    "# plot decision boundary\n",
    "# x2 = (-w0 - w1*x1)/w2\n",
    "x_bound = np.linspace(X[:,1].min(), X[:,1].max(), 300)\n",
    "y_bound = (-learned_thetas[0] - learned_thetas[1]*x_bound)/learned_thetas[2]\n",
    "plt.plot(x_bound, y_bound, label = 'Boundary')\n",
    "\n",
    "plt.title(\"Scatter plot of data with decision boundary\")\n",
    "plt.xlabel(\"x_1\")\n",
    "plt.ylabel(\"x_2\")\n",
    "plt.legend() # automatic placement of legend\n",
    "plt.show() # show the plot"
   ]
  }
 ],
 "metadata": {
  "kernelspec": {
   "display_name": "Python 3",
   "language": "python",
   "name": "python3"
  },
  "language_info": {
   "codemirror_mode": {
    "name": "ipython",
    "version": 3
   },
   "file_extension": ".py",
   "mimetype": "text/x-python",
   "name": "python",
   "nbconvert_exporter": "python",
   "pygments_lexer": "ipython3",
   "version": "3.6.5"
  }
 },
 "nbformat": 4,
 "nbformat_minor": 2
}
